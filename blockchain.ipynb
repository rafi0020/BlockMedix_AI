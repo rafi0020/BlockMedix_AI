{
 "cells": [
  {
   "cell_type": "code",
   "execution_count": 1,
   "metadata": {},
   "outputs": [
    {
     "name": "stdout",
     "output_type": "stream",
     "text": [
      "Collecting web3\n",
      "  Using cached web3-7.7.0-py3-none-any.whl.metadata (5.5 kB)\n",
      "Collecting py-solc-x\n",
      "  Using cached py_solc_x-2.0.3-py3-none-any.whl.metadata (5.8 kB)\n",
      "Collecting eth-abi>=5.0.1 (from web3)\n",
      "  Using cached eth_abi-5.2.0-py3-none-any.whl.metadata (3.8 kB)\n",
      "Collecting eth-account>=0.13.1 (from web3)\n",
      "  Using cached eth_account-0.13.4-py3-none-any.whl.metadata (5.3 kB)\n",
      "Collecting eth-hash>=0.5.1 (from eth-hash[pycryptodome]>=0.5.1->web3)\n",
      "  Using cached eth_hash-0.7.1-py3-none-any.whl.metadata (4.2 kB)\n",
      "Collecting eth-typing>=5.0.0 (from web3)\n",
      "  Using cached eth_typing-5.1.0-py3-none-any.whl.metadata (3.2 kB)\n",
      "Collecting eth-utils>=5.0.0 (from web3)\n",
      "  Using cached eth_utils-5.2.0-py3-none-any.whl.metadata (5.4 kB)\n",
      "Collecting hexbytes>=1.2.0 (from web3)\n",
      "  Using cached hexbytes-1.3.0-py3-none-any.whl.metadata (3.3 kB)\n",
      "Collecting aiohttp>=3.7.4.post0 (from web3)\n",
      "  Using cached aiohttp-3.11.11-cp311-cp311-win_amd64.whl.metadata (8.0 kB)\n",
      "Collecting pydantic>=2.4.0 (from web3)\n",
      "  Using cached pydantic-2.10.6-py3-none-any.whl.metadata (30 kB)\n",
      "Requirement already satisfied: pywin32>=223 in k:\\experiment\\blockchain\\.venv\\lib\\site-packages (from web3) (308)\n",
      "Collecting requests>=2.23.0 (from web3)\n",
      "  Using cached requests-2.32.3-py3-none-any.whl.metadata (4.6 kB)\n",
      "Requirement already satisfied: typing-extensions>=4.0.1 in k:\\experiment\\blockchain\\.venv\\lib\\site-packages (from web3) (4.12.2)\n",
      "Collecting types-requests>=2.0.0 (from web3)\n",
      "  Using cached types_requests-2.32.0.20241016-py3-none-any.whl.metadata (1.9 kB)\n",
      "Collecting websockets<14.0.0,>=10.0.0 (from web3)\n",
      "  Using cached websockets-13.1-cp311-cp311-win_amd64.whl.metadata (7.0 kB)\n",
      "Collecting pyunormalize>=15.0.0 (from web3)\n",
      "  Using cached pyunormalize-16.0.0-py3-none-any.whl.metadata (4.0 kB)\n",
      "Collecting packaging<24,>=23.1 (from py-solc-x)\n",
      "  Using cached packaging-23.2-py3-none-any.whl.metadata (3.2 kB)\n",
      "Collecting aiohappyeyeballs>=2.3.0 (from aiohttp>=3.7.4.post0->web3)\n",
      "  Using cached aiohappyeyeballs-2.4.4-py3-none-any.whl.metadata (6.1 kB)\n",
      "Collecting aiosignal>=1.1.2 (from aiohttp>=3.7.4.post0->web3)\n",
      "  Using cached aiosignal-1.3.2-py2.py3-none-any.whl.metadata (3.8 kB)\n",
      "Collecting attrs>=17.3.0 (from aiohttp>=3.7.4.post0->web3)\n",
      "  Using cached attrs-25.1.0-py3-none-any.whl.metadata (10 kB)\n",
      "Collecting frozenlist>=1.1.1 (from aiohttp>=3.7.4.post0->web3)\n",
      "  Using cached frozenlist-1.5.0-cp311-cp311-win_amd64.whl.metadata (14 kB)\n",
      "Collecting multidict<7.0,>=4.5 (from aiohttp>=3.7.4.post0->web3)\n",
      "  Using cached multidict-6.1.0-cp311-cp311-win_amd64.whl.metadata (5.1 kB)\n",
      "Collecting propcache>=0.2.0 (from aiohttp>=3.7.4.post0->web3)\n",
      "  Using cached propcache-0.2.1-cp311-cp311-win_amd64.whl.metadata (9.5 kB)\n",
      "Collecting yarl<2.0,>=1.17.0 (from aiohttp>=3.7.4.post0->web3)\n",
      "  Using cached yarl-1.18.3-cp311-cp311-win_amd64.whl.metadata (71 kB)\n",
      "Collecting parsimonious<0.11.0,>=0.10.0 (from eth-abi>=5.0.1->web3)\n",
      "  Using cached parsimonious-0.10.0-py3-none-any.whl.metadata (25 kB)\n",
      "Collecting bitarray>=2.4.0 (from eth-account>=0.13.1->web3)\n",
      "  Using cached bitarray-3.0.0-cp311-cp311-win_amd64.whl.metadata (33 kB)\n",
      "Collecting eth-keyfile<0.9.0,>=0.7.0 (from eth-account>=0.13.1->web3)\n",
      "  Using cached eth_keyfile-0.8.1-py3-none-any.whl.metadata (8.5 kB)\n",
      "Collecting eth-keys>=0.4.0 (from eth-account>=0.13.1->web3)\n",
      "  Using cached eth_keys-0.6.1-py3-none-any.whl.metadata (13 kB)\n",
      "Collecting eth-rlp>=2.1.0 (from eth-account>=0.13.1->web3)\n",
      "  Using cached eth_rlp-2.1.0-py3-none-any.whl.metadata (4.6 kB)\n",
      "Collecting rlp>=1.0.0 (from eth-account>=0.13.1->web3)\n",
      "  Using cached rlp-4.0.1-py3-none-any.whl.metadata (4.6 kB)\n",
      "Collecting ckzg>=2.0.0 (from eth-account>=0.13.1->web3)\n",
      "  Using cached ckzg-2.0.1-cp311-cp311-win_amd64.whl.metadata (718 bytes)\n",
      "Collecting pycryptodome<4,>=3.6.6 (from eth-hash[pycryptodome]>=0.5.1->web3)\n",
      "  Using cached pycryptodome-3.21.0-cp36-abi3-win_amd64.whl.metadata (3.4 kB)\n",
      "Collecting cytoolz>=0.10.1 (from eth-utils>=5.0.0->web3)\n",
      "  Using cached cytoolz-1.0.1-cp311-cp311-win_amd64.whl.metadata (4.7 kB)\n",
      "Collecting annotated-types>=0.6.0 (from pydantic>=2.4.0->web3)\n",
      "  Using cached annotated_types-0.7.0-py3-none-any.whl.metadata (15 kB)\n",
      "Collecting pydantic-core==2.27.2 (from pydantic>=2.4.0->web3)\n",
      "  Using cached pydantic_core-2.27.2-cp311-cp311-win_amd64.whl.metadata (6.7 kB)\n",
      "Collecting charset-normalizer<4,>=2 (from requests>=2.23.0->web3)\n",
      "  Using cached charset_normalizer-3.4.1-cp311-cp311-win_amd64.whl.metadata (36 kB)\n",
      "Collecting idna<4,>=2.5 (from requests>=2.23.0->web3)\n",
      "  Using cached idna-3.10-py3-none-any.whl.metadata (10 kB)\n",
      "Collecting urllib3<3,>=1.21.1 (from requests>=2.23.0->web3)\n",
      "  Using cached urllib3-2.3.0-py3-none-any.whl.metadata (6.5 kB)\n",
      "Collecting certifi>=2017.4.17 (from requests>=2.23.0->web3)\n",
      "  Using cached certifi-2024.12.14-py3-none-any.whl.metadata (2.3 kB)\n",
      "Collecting toolz>=0.8.0 (from cytoolz>=0.10.1->eth-utils>=5.0.0->web3)\n",
      "  Using cached toolz-1.0.0-py3-none-any.whl.metadata (5.1 kB)\n",
      "Collecting regex>=2022.3.15 (from parsimonious<0.11.0,>=0.10.0->eth-abi>=5.0.1->web3)\n",
      "  Using cached regex-2024.11.6-cp311-cp311-win_amd64.whl.metadata (41 kB)\n",
      "Using cached web3-7.7.0-py3-none-any.whl (1.4 MB)\n",
      "Using cached py_solc_x-2.0.3-py3-none-any.whl (18 kB)\n",
      "Using cached aiohttp-3.11.11-cp311-cp311-win_amd64.whl (442 kB)\n",
      "Using cached eth_abi-5.2.0-py3-none-any.whl (28 kB)\n",
      "Using cached eth_account-0.13.4-py3-none-any.whl (581 kB)\n",
      "Using cached eth_hash-0.7.1-py3-none-any.whl (8.0 kB)\n",
      "Using cached eth_typing-5.1.0-py3-none-any.whl (19 kB)\n",
      "Using cached eth_utils-5.2.0-py3-none-any.whl (100 kB)\n",
      "Using cached hexbytes-1.3.0-py3-none-any.whl (4.9 kB)\n",
      "Using cached packaging-23.2-py3-none-any.whl (53 kB)\n",
      "Using cached pydantic-2.10.6-py3-none-any.whl (431 kB)\n",
      "Using cached pydantic_core-2.27.2-cp311-cp311-win_amd64.whl (2.0 MB)\n",
      "Using cached pyunormalize-16.0.0-py3-none-any.whl (49 kB)\n",
      "Using cached requests-2.32.3-py3-none-any.whl (64 kB)\n",
      "Using cached types_requests-2.32.0.20241016-py3-none-any.whl (15 kB)\n",
      "Using cached websockets-13.1-cp311-cp311-win_amd64.whl (159 kB)\n",
      "Using cached aiohappyeyeballs-2.4.4-py3-none-any.whl (14 kB)\n",
      "Using cached aiosignal-1.3.2-py2.py3-none-any.whl (7.6 kB)\n",
      "Using cached annotated_types-0.7.0-py3-none-any.whl (13 kB)\n",
      "Using cached attrs-25.1.0-py3-none-any.whl (63 kB)\n",
      "Using cached bitarray-3.0.0-cp311-cp311-win_amd64.whl (121 kB)\n",
      "Using cached certifi-2024.12.14-py3-none-any.whl (164 kB)\n",
      "Using cached charset_normalizer-3.4.1-cp311-cp311-win_amd64.whl (102 kB)\n",
      "Using cached ckzg-2.0.1-cp311-cp311-win_amd64.whl (98 kB)\n",
      "Using cached cytoolz-1.0.1-cp311-cp311-win_amd64.whl (365 kB)\n",
      "Using cached eth_keyfile-0.8.1-py3-none-any.whl (7.5 kB)\n",
      "Using cached eth_keys-0.6.1-py3-none-any.whl (21 kB)\n",
      "Using cached eth_rlp-2.1.0-py3-none-any.whl (5.1 kB)\n",
      "Using cached frozenlist-1.5.0-cp311-cp311-win_amd64.whl (51 kB)\n",
      "Using cached idna-3.10-py3-none-any.whl (70 kB)\n",
      "Using cached multidict-6.1.0-cp311-cp311-win_amd64.whl (28 kB)\n",
      "Using cached parsimonious-0.10.0-py3-none-any.whl (48 kB)\n",
      "Using cached propcache-0.2.1-cp311-cp311-win_amd64.whl (44 kB)\n",
      "Using cached pycryptodome-3.21.0-cp36-abi3-win_amd64.whl (1.8 MB)\n",
      "Using cached rlp-4.0.1-py3-none-any.whl (20 kB)\n",
      "Using cached urllib3-2.3.0-py3-none-any.whl (128 kB)\n",
      "Using cached yarl-1.18.3-cp311-cp311-win_amd64.whl (91 kB)\n",
      "Using cached regex-2024.11.6-cp311-cp311-win_amd64.whl (274 kB)\n",
      "Using cached toolz-1.0.0-py3-none-any.whl (56 kB)\n",
      "Installing collected packages: ckzg, bitarray, websockets, urllib3, toolz, regex, pyunormalize, pydantic-core, pycryptodome, propcache, packaging, multidict, idna, hexbytes, frozenlist, eth-typing, eth-hash, charset-normalizer, certifi, attrs, annotated-types, aiohappyeyeballs, yarl, types-requests, requests, pydantic, parsimonious, cytoolz, aiosignal, py-solc-x, eth-utils, aiohttp, rlp, eth-keys, eth-abi, eth-rlp, eth-keyfile, eth-account, web3\n",
      "  Attempting uninstall: packaging\n",
      "    Found existing installation: packaging 24.2\n",
      "    Uninstalling packaging-24.2:\n",
      "      Successfully uninstalled packaging-24.2\n",
      "Successfully installed aiohappyeyeballs-2.4.4 aiohttp-3.11.11 aiosignal-1.3.2 annotated-types-0.7.0 attrs-25.1.0 bitarray-3.0.0 certifi-2024.12.14 charset-normalizer-3.4.1 ckzg-2.0.1 cytoolz-1.0.1 eth-abi-5.2.0 eth-account-0.13.4 eth-hash-0.7.1 eth-keyfile-0.8.1 eth-keys-0.6.1 eth-rlp-2.1.0 eth-typing-5.1.0 eth-utils-5.2.0 frozenlist-1.5.0 hexbytes-1.3.0 idna-3.10 multidict-6.1.0 packaging-23.2 parsimonious-0.10.0 propcache-0.2.1 py-solc-x-2.0.3 pycryptodome-3.21.0 pydantic-2.10.6 pydantic-core-2.27.2 pyunormalize-16.0.0 regex-2024.11.6 requests-2.32.3 rlp-4.0.1 toolz-1.0.0 types-requests-2.32.0.20241016 urllib3-2.3.0 web3-7.7.0 websockets-13.1 yarl-1.18.3\n",
      "Note: you may need to restart the kernel to use updated packages.\n"
     ]
    },
    {
     "name": "stderr",
     "output_type": "stream",
     "text": [
      "\n",
      "[notice] A new release of pip is available: 24.0 -> 25.0\n",
      "[notice] To update, run: python.exe -m pip install --upgrade pip\n"
     ]
    }
   ],
   "source": [
    "# Install required libraries\n",
    "%pip install web3 py-solc-x"
   ]
  },
  {
   "cell_type": "code",
   "execution_count": 2,
   "metadata": {},
   "outputs": [
    {
     "name": "stdout",
     "output_type": "stream",
     "text": [
      "Connected to the Ganache blockchain\n"
     ]
    }
   ],
   "source": [
    "from web3 import Web3\n",
    "\n",
    "# Connect to the local Ganache blockchain\n",
    "ganache_url = \"http://127.0.0.1:7545\"  # Default Ganache RPC URL\n",
    "web3 = Web3(Web3.HTTPProvider(ganache_url))\n",
    "\n",
    "# Check the connection\n",
    "if web3.is_connected():\n",
    "    print(\"Connected to the Ganache blockchain\")\n",
    "else:\n",
    "    print(\"Failed to connect\")"
   ]
  },
  {
   "cell_type": "code",
   "execution_count": 3,
   "metadata": {},
   "outputs": [
    {
     "name": "stdout",
     "output_type": "stream",
     "text": [
      "[<Version('0.8.28')>, <Version('0.8.27')>, <Version('0.8.26')>, <Version('0.8.25')>, <Version('0.8.24')>, <Version('0.8.23')>, <Version('0.8.22')>, <Version('0.8.21')>, <Version('0.8.20')>, <Version('0.8.19')>, <Version('0.8.18')>, <Version('0.8.17')>, <Version('0.8.16')>, <Version('0.8.15')>, <Version('0.8.14')>, <Version('0.8.13')>, <Version('0.8.12')>, <Version('0.8.11')>, <Version('0.8.10')>, <Version('0.8.9')>, <Version('0.8.8')>, <Version('0.8.7')>, <Version('0.8.6')>, <Version('0.8.5')>, <Version('0.8.4')>, <Version('0.8.3')>, <Version('0.8.2')>, <Version('0.8.1')>, <Version('0.8.0')>, <Version('0.7.6')>, <Version('0.7.5')>, <Version('0.7.4')>, <Version('0.7.3')>, <Version('0.7.2')>, <Version('0.7.1')>, <Version('0.7.0')>, <Version('0.6.12')>, <Version('0.6.11')>, <Version('0.6.10')>, <Version('0.6.9')>, <Version('0.6.8')>, <Version('0.6.7')>, <Version('0.6.6')>, <Version('0.6.5')>, <Version('0.6.4')>, <Version('0.6.3')>, <Version('0.6.2')>, <Version('0.6.1')>, <Version('0.6.0')>, <Version('0.5.17')>, <Version('0.5.16')>, <Version('0.5.15')>, <Version('0.5.14')>, <Version('0.5.13')>, <Version('0.5.12')>, <Version('0.5.11')>, <Version('0.5.10')>, <Version('0.5.9')>, <Version('0.5.8')>, <Version('0.5.7')>, <Version('0.5.6')>, <Version('0.5.5')>, <Version('0.5.4')>, <Version('0.5.3')>, <Version('0.5.2')>, <Version('0.5.1')>, <Version('0.5.0')>, <Version('0.4.26')>, <Version('0.4.25')>, <Version('0.4.24')>, <Version('0.4.23')>, <Version('0.4.22')>, <Version('0.4.21')>, <Version('0.4.20')>, <Version('0.4.19')>, <Version('0.4.18')>, <Version('0.4.17')>, <Version('0.4.16')>, <Version('0.4.15')>, <Version('0.4.14')>, <Version('0.4.13')>, <Version('0.4.12')>, <Version('0.4.11')>]\n"
     ]
    }
   ],
   "source": [
    "import solcx\n",
    "\n",
    "# List available versions\n",
    "print(solcx.get_installable_solc_versions())\n",
    "\n",
    "# Install a specific version\n",
    "solcx.install_solc('0.8.6')\n",
    "\n",
    "# Set the installed version as the default\n",
    "solcx.set_solc_version('0.8.6')"
   ]
  },
  {
   "cell_type": "code",
   "execution_count": 4,
   "metadata": {},
   "outputs": [
    {
     "name": "stdout",
     "output_type": "stream",
     "text": [
      "Contract deployed at address: 0x09AC16c6f3fA0f21910021368D31A7B42BBB35a6\n"
     ]
    }
   ],
   "source": [
    "import solcx\n",
    "from solcx import compile_source\n",
    "\n",
    "# Load and compile the Solidity contract\n",
    "with open(\"Healthcare.sol\", \"r\") as file:\n",
    "    contract_source_code = file.read()\n",
    "\n",
    "compiled_sol = compile_source(\n",
    "    contract_source_code,\n",
    "    output_values=[\"abi\", \"bin\"]\n",
    ")\n",
    "\n",
    "# Extract ABI and bytecode\n",
    "contract_id, contract_interface = compiled_sol.popitem()\n",
    "abi = contract_interface[\"abi\"]\n",
    "bytecode = contract_interface[\"bin\"]\n",
    "\n",
    "# Deploy the contract\n",
    "web3.eth.default_account = web3.eth.accounts[0]  # Use the first Ganache account\n",
    "Healthcare = web3.eth.contract(abi=abi, bytecode=bytecode)\n",
    "\n",
    "# Deploy transaction\n",
    "tx_hash = Healthcare.constructor().transact()\n",
    "tx_receipt = web3.eth.wait_for_transaction_receipt(tx_hash)\n",
    "\n",
    "print(f\"Contract deployed at address: {tx_receipt.contractAddress}\")\n"
   ]
  },
  {
   "cell_type": "code",
   "execution_count": 5,
   "metadata": {},
   "outputs": [
    {
     "name": "stdout",
     "output_type": "stream",
     "text": [
      "ABI saved to Healthcare.abi.json\n"
     ]
    }
   ],
   "source": [
    "import json\n",
    "\n",
    "# Save ABI to a JSON file\n",
    "with open('Healthcare.abi.json', 'w') as f:\n",
    "    json.dump(abi, f, indent=4)\n",
    "\n",
    "print(\"ABI saved to Healthcare.abi.json\")"
   ]
  },
  {
   "cell_type": "code",
   "execution_count": 6,
   "metadata": {},
   "outputs": [
    {
     "name": "stdout",
     "output_type": "stream",
     "text": [
      "Record Details: ['John Doe', 'EncryptedData123', '0x42F78a2db8619B47F1A4c280DEc19519AA969eb1']\n"
     ]
    }
   ],
   "source": [
    "# Interact with the deployed contract\n",
    "contract_address = tx_receipt.contractAddress\n",
    "healthcare_contract = web3.eth.contract(address=contract_address, abi=abi)\n",
    "\n",
    "# Add a new record\n",
    "tx_hash = healthcare_contract.functions.addRecord(\"John Doe\", \"EncryptedData123\").transact()\n",
    "web3.eth.wait_for_transaction_receipt(tx_hash)\n",
    "\n",
    "# Retrieve the record\n",
    "record = healthcare_contract.functions.getRecord(1).call()\n",
    "print(\"Record Details:\", record)\n"
   ]
  }
 ],
 "metadata": {
  "kernelspec": {
   "display_name": ".venv",
   "language": "python",
   "name": "python3"
  },
  "language_info": {
   "codemirror_mode": {
    "name": "ipython",
    "version": 3
   },
   "file_extension": ".py",
   "mimetype": "text/x-python",
   "name": "python",
   "nbconvert_exporter": "python",
   "pygments_lexer": "ipython3",
   "version": "3.11.9"
  }
 },
 "nbformat": 4,
 "nbformat_minor": 2
}
